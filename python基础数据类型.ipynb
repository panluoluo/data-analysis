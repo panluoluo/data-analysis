{
 "cells": [
  {
   "cell_type": "markdown",
   "metadata": {},
   "source": [
    "### 变量"
   ]
  },
  {
   "cell_type": "code",
   "execution_count": 1,
   "metadata": {},
   "outputs": [
    {
     "name": "stdout",
     "output_type": "stream",
     "text": [
      "3\n"
     ]
    }
   ],
   "source": [
    "a = 3\n",
    "print(a)"
   ]
  },
  {
   "cell_type": "code",
   "execution_count": 2,
   "metadata": {},
   "outputs": [
    {
     "name": "stdout",
     "output_type": "stream",
     "text": [
      "7 3\n"
     ]
    }
   ],
   "source": [
    "a = 3\n",
    "b = 7\n",
    "c = a\n",
    "a = b\n",
    "b = c\n",
    "print(a,b)"
   ]
  },
  {
   "cell_type": "markdown",
   "metadata": {},
   "source": [
    "### 数字\n",
    "- 整数\n",
    "- 浮点数\n",
    "- 布尔值"
   ]
  },
  {
   "cell_type": "code",
   "execution_count": 3,
   "metadata": {
    "collapsed": true
   },
   "outputs": [],
   "source": [
    "a = 4\n",
    "b = 3.5\n",
    "c = True"
   ]
  },
  {
   "cell_type": "code",
   "execution_count": 4,
   "metadata": {},
   "outputs": [
    {
     "name": "stdout",
     "output_type": "stream",
     "text": [
      "<class 'int'> <class 'float'> <class 'bool'>\n"
     ]
    }
   ],
   "source": [
    "print(type(a),type(b),type(c))"
   ]
  },
  {
   "cell_type": "markdown",
   "metadata": {},
   "source": [
    "### 字符串\n",
    "- input方法\n",
    "- 加法和乘法\n",
    "- 索引和切片\n",
    "- 字符串方法"
   ]
  },
  {
   "cell_type": "code",
   "execution_count": 5,
   "metadata": {},
   "outputs": [
    {
     "name": "stdout",
     "output_type": "stream",
     "text": [
      "<class 'str'>\n"
     ]
    }
   ],
   "source": [
    "a = 'luopan'\n",
    "print(type(a))"
   ]
  },
  {
   "cell_type": "code",
   "execution_count": 6,
   "metadata": {},
   "outputs": [
    {
     "name": "stdout",
     "output_type": "stream",
     "text": [
      "请输入你的姓名：luopan\n",
      "luopan <class 'str'>\n"
     ]
    }
   ],
   "source": [
    "a = input('请输入你的姓名：')\n",
    "print(a,type(a))"
   ]
  },
  {
   "cell_type": "code",
   "execution_count": 7,
   "metadata": {},
   "outputs": [
    {
     "name": "stdout",
     "output_type": "stream",
     "text": [
      "炸鸡啤酒\n"
     ]
    }
   ],
   "source": [
    "a = '炸鸡'\n",
    "b = '啤酒'\n",
    "print(a+b)"
   ]
  },
  {
   "cell_type": "code",
   "execution_count": 8,
   "metadata": {},
   "outputs": [
    {
     "name": "stdout",
     "output_type": "stream",
     "text": [
      "多敲代码多敲代码多敲代码\n"
     ]
    }
   ],
   "source": [
    "a = '多敲代码'\n",
    "b = a*3\n",
    "print(b)"
   ]
  },
  {
   "cell_type": "code",
   "execution_count": 9,
   "metadata": {},
   "outputs": [
    {
     "name": "stdout",
     "output_type": "stream",
     "text": [
      "o\n",
      "I lo\n",
      "Ilv\n"
     ]
    }
   ],
   "source": [
    "a = 'I love python'\n",
    "print(a[3])\n",
    "print(a[0:4])\n",
    "print(a[0:6:2])"
   ]
  },
  {
   "cell_type": "code",
   "execution_count": 10,
   "metadata": {},
   "outputs": [
    {
     "name": "stdout",
     "output_type": "stream",
     "text": [
      "2\n"
     ]
    }
   ],
   "source": [
    "a = 'asdfaweasd'\n",
    "print(a.find('d'))"
   ]
  },
  {
   "cell_type": "code",
   "execution_count": 16,
   "metadata": {},
   "outputs": [
    {
     "name": "stdout",
     "output_type": "stream",
     "text": [
      "['罗罗攀', '罗攀', '长沙']\n"
     ]
    }
   ],
   "source": [
    "a = '罗罗攀-罗攀-长沙'\n",
    "b = a.split('-')\n",
    "print(b)"
   ]
  },
  {
   "cell_type": "code",
   "execution_count": 12,
   "metadata": {},
   "outputs": [
    {
     "name": "stdout",
     "output_type": "stream",
     "text": [
      "This is a book\n"
     ]
    }
   ],
   "source": [
    "a = 'This are a book'\n",
    "b = a.replace('are','is')\n",
    "print(b)"
   ]
  },
  {
   "cell_type": "code",
   "execution_count": 13,
   "metadata": {},
   "outputs": [
    {
     "name": "stdout",
     "output_type": "stream",
     "text": [
      "sassss\n",
      "sass**ss\n"
     ]
    }
   ],
   "source": [
    "a = ' sassss '\n",
    "b = a.strip()\n",
    "print(b)\n",
    "a = '** sass**ss **'\n",
    "b = a.strip('* ')\n",
    "print(b)"
   ]
  },
  {
   "cell_type": "code",
   "execution_count": 14,
   "metadata": {},
   "outputs": [
    {
     "name": "stdout",
     "output_type": "stream",
     "text": [
      "Python is good\n"
     ]
    }
   ],
   "source": [
    "a = '{} is {}'.format('Python','good')\n",
    "print(a)"
   ]
  },
  {
   "cell_type": "code",
   "execution_count": 15,
   "metadata": {},
   "outputs": [
    {
     "name": "stdout",
     "output_type": "stream",
     "text": [
      "请输入电话号码：13245347654\n",
      "132-4534-7654\n"
     ]
    }
   ],
   "source": [
    "a = input('请输入电话号码：')\n",
    "a_1 = a[0:3]\n",
    "a_2 = a[3:7]\n",
    "a_3 = a[7:]\n",
    "b = a_1 + '-' + a_2 + '-' + a_3\n",
    "print(b)"
   ]
  },
  {
   "cell_type": "code",
   "execution_count": null,
   "metadata": {
    "collapsed": true
   },
   "outputs": [],
   "source": []
  }
 ],
 "metadata": {
  "kernelspec": {
   "display_name": "Python 3",
   "language": "python",
   "name": "python3"
  },
  "language_info": {
   "codemirror_mode": {
    "name": "ipython",
    "version": 3
   },
   "file_extension": ".py",
   "mimetype": "text/x-python",
   "name": "python",
   "nbconvert_exporter": "python",
   "pygments_lexer": "ipython3",
   "version": "3.6.3"
  }
 },
 "nbformat": 4,
 "nbformat_minor": 2
}
